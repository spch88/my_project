{
  "nbformat": 4,
  "nbformat_minor": 0,
  "metadata": {
    "colab": {
      "provenance": [],
      "include_colab_link": true
    },
    "kernelspec": {
      "name": "python3",
      "display_name": "Python 3"
    },
    "language_info": {
      "name": "python"
    }
  },
  "cells": [
    {
      "cell_type": "markdown",
      "metadata": {
        "id": "view-in-github",
        "colab_type": "text"
      },
      "source": [
        "<a href=\"https://colab.research.google.com/github/spch88/my_project/blob/main/%D0%9A%D0%BB%D0%B0%D1%81%D1%81%D0%B8%D1%84%D0%B8%D0%BA%D0%B0%D1%86%D0%B8%D1%8F_%D0%BE%D1%82%D0%B7%D1%8B%D0%B2%D0%BE%D0%B2_%D0%BD%D0%B0_%D0%B0%D0%B2%D1%82%D0%BE%D0%BC%D0%BE%D0%B1%D0%B8%D0%BB%D1%8C_Tesla.ipynb\" target=\"_parent\"><img src=\"https://colab.research.google.com/assets/colab-badge.svg\" alt=\"Open In Colab\"/></a>"
      ]
    },
    {
      "cell_type": "markdown",
      "metadata": {
        "id": "3hahJ-ONkfmR"
      },
      "source": [
        "В данном домашнем задании предоставляется возможность поработать с задачей по распознаванию позитивных и негативных отзывы людей по автомобилю Tesla. База для обучения содержит два текстовых файла с рядом строчных отзывов с мнением людей об автомобиле Tesla, соответственно негативного и позитивного содержания. Ссылка на скачивание базы уже включена в ноутбук задания.\n",
        "\n",
        "\n",
        "Необходимо выполнить следующие действия:\n",
        "\n",
        "  1. Загрузите саму базу по ссылке и подговьте файлы базы для обработки.\n",
        "  2. Создайте обучающую и проверочную выборки, обратив особое внимание на балансировку базы: количество примеров каждого класса должно быть примерно одного порядка.\n",
        "  3. Подготовьте выборки для обучения и обучите сеть. Добейтесь результата точности сети в 85-90% на проверочной выборке.\n",
        "   \n"
      ]
    },
    {
      "cell_type": "markdown",
      "metadata": {
        "id": "PUN4KxIPuUmM"
      },
      "source": [
        "**Импорт библиотек, загрузка базы и подготовка её к предобработке.**"
      ]
    },
    {
      "cell_type": "code",
      "metadata": {
        "id": "pBys9ajOW43u"
      },
      "source": [
        "import gdown\n",
        "import os"
      ],
      "execution_count": null,
      "outputs": []
    },
    {
      "cell_type": "code",
      "source": [
        "gdown.download('https://storage.googleapis.com/terra_ai/DataSets/tesla.zip', None, quiet=True)"
      ],
      "metadata": {
        "colab": {
          "base_uri": "https://localhost:8080/",
          "height": 36
        },
        "id": "1yI6_gZi-SL9",
        "outputId": "863ab506-ec17-444e-cb06-a4cb68e3eb73"
      },
      "execution_count": null,
      "outputs": [
        {
          "output_type": "execute_result",
          "data": {
            "text/plain": [
              "'tesla.zip'"
            ],
            "application/vnd.google.colaboratory.intrinsic+json": {
              "type": "string"
            }
          },
          "metadata": {},
          "execution_count": 142
        }
      ]
    },
    {
      "cell_type": "markdown",
      "metadata": {
        "id": "Poe5lbs7ulKQ"
      },
      "source": [
        "**Деление общей базы отзывов на данные для обучения и проверки.**"
      ]
    },
    {
      "cell_type": "code",
      "metadata": {
        "id": "bBgC28cgulnc",
        "colab": {
          "base_uri": "https://localhost:8080/"
        },
        "outputId": "0737ce30-35d4-4847-9dea-9b59a8efdb8b"
      },
      "source": [
        "# Распаковка архива в папку writers\n",
        "!unzip -qo tesla.zip -d tesla/\n",
        "\n",
        "# Просмотр содержимого папки\n",
        "!ls tesla"
      ],
      "execution_count": null,
      "outputs": [
        {
          "output_type": "stream",
          "name": "stdout",
          "text": [
            "'Негативный отзыв.txt'\t'Позитивный отзыв.txt'\n"
          ]
        }
      ]
    },
    {
      "cell_type": "markdown",
      "metadata": {
        "id": "o7VsrwF92JDM"
      },
      "source": [
        "**Загрузка текста из файлов, преобразование в одну строку.**"
      ]
    },
    {
      "cell_type": "code",
      "metadata": {
        "id": "tHELyvOvzRBI"
      },
      "source": [
        "# Объявляем функции для чтения файла. На вход отправляем путь к файлу\n",
        "def read_text(file_name):\n",
        "\n",
        "  # Задаем открытие нужного файла в режиме чтения              \n",
        "  read_file = open(file_name, 'r')\n",
        "\n",
        "  # Читаем текст     \n",
        "  text = read_file.read()\n",
        "\n",
        "  # Переносы строки переводим в пробелы              \n",
        "  text = text.replace(\"\\n\", \" \")\n",
        "\n",
        "  # Возвращаем текст файла       \n",
        "  return text                          \n",
        "\n",
        "# Объявляем интересующие нас классы\n",
        "class_names = [\"Негативный отзыв\", \"Позитивный отзыв\"]\n",
        "\n",
        "# Считаем количество классов \n",
        "num_classes = len(class_names)"
      ],
      "execution_count": null,
      "outputs": []
    },
    {
      "cell_type": "markdown",
      "metadata": {
        "id": "ih6e6VfO2o_t"
      },
      "source": [
        "**Тексты в один список.**"
      ]
    },
    {
      "cell_type": "code",
      "metadata": {
        "id": "9w4V4ztFznbG",
        "colab": {
          "base_uri": "https://localhost:8080/"
        },
        "outputId": "535f1873-d68e-4f12-d9ad-f517f262503e"
      },
      "source": [
        "# Создаём список под тексты для обучающей выборки\n",
        "texts_list = []\n",
        "\n",
        "# Циклом проводим итерацию по текстовым файлам в папке отзывов\n",
        "for j in os.listdir('/content/tesla/'):\n",
        "\n",
        "  # Добавляем каждый файл в общий список для выборки\n",
        "        texts_list.append(read_text('/content/tesla/' + j))\n",
        "        \n",
        "        # Выводим на экран сообщение о добавлении файла\n",
        "        print(j, 'добавлен в обучающую выборку')"
      ],
      "execution_count": null,
      "outputs": [
        {
          "output_type": "stream",
          "name": "stdout",
          "text": [
            "Позитивный отзыв.txt добавлен в обучающую выборку\n",
            "Негативный отзыв.txt добавлен в обучающую выборку\n"
          ]
        }
      ]
    },
    {
      "cell_type": "code",
      "metadata": {
        "id": "rvvdNpt40jRY",
        "colab": {
          "base_uri": "https://localhost:8080/"
        },
        "outputId": "02c8eefa-8761-41da-d0f5-74ccf4dd2ba0"
      },
      "source": [
        "# Узнаем объём каждого текста в словах и символах\n",
        "texts_len = [len(text) for text in texts_list]\n",
        "\n",
        "# Устанавливаем \"счётчик\" номера текста\n",
        "t_num = 0\n",
        "\n",
        "# Выводим на экран  информационное сообщение\n",
        "print(f'Размеры текстов по порядку (в токенах):')\n",
        "\n",
        "# Циклом проводим итерацию по списку с объёмами текстов\n",
        "for text_len in texts_len:\n",
        "\n",
        "  # Запускаем \"счётчик\" номера текста\n",
        "  t_num += 1\n",
        "  \n",
        "  # Выводим на экран сообщение о номере и объёме текста\n",
        "  print(f'Текст №{t_num}: {text_len}')"
      ],
      "execution_count": null,
      "outputs": [
        {
          "output_type": "stream",
          "name": "stdout",
          "text": [
            "Размеры текстов по порядку (в токенах):\n",
            "Текст №1: 213381\n",
            "Текст №2: 134535\n"
          ]
        }
      ]
    },
    {
      "cell_type": "markdown",
      "metadata": {
        "id": "lpAQS_wB24TT"
      },
      "source": [
        "Далее рассчитаем, сколько символов составит 80% объёма каждого текста, чтобы по полученному индексу отделить эти 80% на обучающую и оставшиеся 20% на проверочную выборку. Эти значения необходимы для подготовки деления на выборки слайсингом по индексу."
      ]
    },
    {
      "cell_type": "code",
      "metadata": {
        "id": "0ur3bkOd3UTQ",
        "colab": {
          "base_uri": "https://localhost:8080/"
        },
        "outputId": "03b7a11e-666b-4d73-9163-c2a323dd94c3"
      },
      "source": [
        "# Создаём список с вложенным циклом по длинам текстов, где i - 100% текста, i/5 - 20% текста \n",
        "train_len_shares = [(i - round(i/5)) for i in texts_len]\n",
        "\n",
        "# Устанавливаем \"счётчик\" номера текста\n",
        "t_num = 0\n",
        "\n",
        "# Циклом проводим итерацию по списку с объёмами текстов равными 80% от исходных\n",
        "for train_len_share in train_len_shares:\n",
        "\n",
        "  # Запускаем \"счётчик\" номера текста\n",
        "  t_num += 1\n",
        "  \n",
        "  # Выводим на экран сообщение о номере и объёме текста в 80% от исходного\n",
        "  print(f'Доля 80% от текста №{t_num}: {train_len_share} символов')"
      ],
      "execution_count": null,
      "outputs": [
        {
          "output_type": "stream",
          "name": "stdout",
          "text": [
            "Доля 80% от текста №1: 170705 символов\n",
            "Доля 80% от текста №2: 107628 символов\n"
          ]
        }
      ]
    },
    {
      "cell_type": "markdown",
      "metadata": {
        "id": "rVHFObMz5RsH"
      },
      "source": [
        "Импортируем функцию **chain()** для добавления текстов в каждую выборку.\n",
        "\n",
        "---\n",
        " Дополнительная информация: ([База знаний УИИ  - **\"Методы работы со списками: функция chain( )**\"](https://colab.research.google.com/drive/1KJKg_WYD8Vq63cciOMBEEAhFpyPv0A0V?usp=sharing/))\n",
        "\n",
        "---\n",
        "\n",
        "Произведём нарезку (метод слайсинга) по полученному ранее индексу для формирования текстов отдельно для обучающей(80%) и проверочной(20%) выборок:"
      ]
    },
    {
      "cell_type": "code",
      "metadata": {
        "id": "um_NZc9pzAXc"
      },
      "source": [
        "from itertools import chain\n",
        "# Ваше решение"
      ],
      "execution_count": null,
      "outputs": []
    },
    {
      "cell_type": "code",
      "source": [
        "from tensorflow.keras.preprocessing.text import Tokenizer\n",
        "import numpy as np\n",
        "from tensorflow.keras import utils\n",
        "import matplotlib.pyplot as plt\n",
        "from sklearn.metrics import confusion_matrix, ConfusionMatrixDisplay\n",
        "from tensorflow.keras.models import Sequential\n",
        "from tensorflow.keras.layers import Dense, Dropout, SpatialDropout1D, BatchNormalization, Embedding, Flatten, Activation "
      ],
      "metadata": {
        "id": "zzyGTfd1L68T"
      },
      "execution_count": null,
      "outputs": []
    },
    {
      "cell_type": "code",
      "source": [
        "# для начала сбалансируем базу данных, примерно уравняв количество примеров с отзывами\n",
        "texts_list[0] = texts_list[0][:135000]\n",
        "\n",
        "for text in texts_list:\n",
        "  print(len(text))  "
      ],
      "metadata": {
        "colab": {
          "base_uri": "https://localhost:8080/"
        },
        "id": "lABq5R-vB4xC",
        "outputId": "5c41c4fa-faa7-4ab5-f0e3-da6ae41275ea"
      },
      "execution_count": null,
      "outputs": [
        {
          "output_type": "stream",
          "name": "stdout",
          "text": [
            "135000\n",
            "134535\n"
          ]
        }
      ]
    },
    {
      "cell_type": "code",
      "source": [
        "# зададим параметры преобразования текста\n",
        "VOCAB_SIZE = 10000        # размер словаря\n",
        "WIN_SIZE   = 100         # ширина окна\n",
        "WIN_HOP    = 20          # шаг окна разбиения текста на векторы\n",
        "\n",
        "# создаем токенизатор и строим частотный словарь по текстам\n",
        "tokenizer = Tokenizer(num_words=VOCAB_SIZE, filters='!\"#$%&()*+,-–—./…:;<=>?@[\\\\]^_`{|}~«»\\t\\n\\xa0\\ufeff', \n",
        "                          lower=True, split=' ', oov_token='неизвестное_слово', char_level=False)\n",
        "\n",
        "tokenizer.fit_on_texts(texts_list)\n",
        "    \n",
        "# построение словаря в виде пар слово - индекс\n",
        "items = list(tokenizer.word_index.items())\n",
        "\n",
        "print(f'Длина словаря: {len(items)}')"
      ],
      "metadata": {
        "colab": {
          "base_uri": "https://localhost:8080/"
        },
        "id": "urBCp6Grx201",
        "outputId": "a029b236-361d-4a8c-aecd-56bc1ec9d634"
      },
      "execution_count": null,
      "outputs": [
        {
          "output_type": "stream",
          "name": "stdout",
          "text": [
            "Длина словаря: 10281\n"
          ]
        }
      ]
    },
    {
      "cell_type": "code",
      "source": [
        "# разделим текст на обучающую и тестовую выборки\n",
        "test_train, test_test = [],[]\n",
        "for i in range(num_classes):\n",
        "  n_div = int(len(texts_list[i])*0.8)\n",
        "  test_train.append(texts_list[i][:n_div])\n",
        "  test_test.append(texts_list[i][n_div:])"
      ],
      "metadata": {
        "id": "jlPuIrW7-nCG"
      },
      "execution_count": null,
      "outputs": []
    },
    {
      "cell_type": "code",
      "source": [
        "# преобразование обучающих и проверочных текстов в последовательность индексов согласно частотному словарю\n",
        "seq_train = tokenizer.texts_to_sequences(test_train)\n",
        "seq_test = tokenizer.texts_to_sequences(test_test)"
      ],
      "metadata": {
        "id": "qCS1crDY4Oas"
      },
      "execution_count": null,
      "outputs": []
    },
    {
      "cell_type": "code",
      "source": [
        "# воспользуемся готовыми функциями\n",
        "\n",
        "# Функция разбиения последовательности на отрезки скользящим окном\n",
        "# На входе - последовательность индексов, размер окна, шаг окна\n",
        "def split_sequence(sequence, win_size, hop):\n",
        "    # Последовательность разбивается на части до последнего полного окна\n",
        "    return [sequence[i:i + win_size] for i in range(0, len(sequence) - win_size + 1, hop)]\n",
        "\n",
        "# Функция формирования выборок из последовательностей индексов\n",
        "# формирует выборку отрезков и соответствующих им меток классов в виде one hot encoding\n",
        "def vectorize_sequence(seq_list, win_size, hop):\n",
        "    # В списке последовательности следуют в порядке их классов\n",
        "    # Всего последовательностей в списке ровно столько, сколько классов\n",
        "    class_count = len(seq_list)\n",
        "\n",
        "    # Списки для исходных векторов и категориальных меток класса\n",
        "    x, y = [], []\n",
        "\n",
        "    # Для каждого класса:\n",
        "    for cls in range(class_count):\n",
        "        # Разбиение последовательности класса cls на отрезки\n",
        "        vectors = split_sequence(seq_list[cls], win_size, hop)\n",
        "        # Добавление отрезков в выборку\n",
        "        x += vectors\n",
        "        # Для всех отрезков класса cls добавление меток класса в виде OHE\n",
        "        y += [utils.to_categorical(cls, class_count)] * len(vectors)\n",
        "\n",
        "    # Возврат результатов как numpy-массивов\n",
        "    return np.array(x), np.array(y)"
      ],
      "metadata": {
        "id": "tc1rPcf_23wr"
      },
      "execution_count": null,
      "outputs": []
    },
    {
      "cell_type": "code",
      "source": [
        "# формирование обучающей выборки\n",
        "x_train, y_train = vectorize_sequence(seq_train, WIN_SIZE, WIN_HOP) \n",
        "# формирование тестовой выборки\n",
        "x_test, y_test = vectorize_sequence(seq_test, WIN_SIZE, WIN_HOP)\n",
        "\n",
        "print(x_train.shape, y_train.shape)\n",
        "print(x_test.shape, y_test.shape)"
      ],
      "metadata": {
        "colab": {
          "base_uri": "https://localhost:8080/"
        },
        "id": "Kz8QwZ6BEZ80",
        "outputId": "37313e77-bb2e-445a-9669-64b02bb26e23"
      },
      "execution_count": null,
      "outputs": [
        {
          "output_type": "stream",
          "name": "stdout",
          "text": [
            "(1640, 100) (1640, 2)\n",
            "(416, 100) (416, 2)\n"
          ]
        }
      ]
    },
    {
      "cell_type": "code",
      "source": [
        "# сформируем выборки текстов в виде разреженных матриц (bag of words)\n",
        "x_train_01 = tokenizer.sequences_to_matrix(x_train.tolist())\n",
        "x_test_01 = tokenizer.sequences_to_matrix(x_test.tolist())"
      ],
      "metadata": {
        "id": "f3rIjpJTFtUV"
      },
      "execution_count": null,
      "outputs": []
    },
    {
      "cell_type": "code",
      "source": [
        "# используем функцию компиляции и обучения модели НС\n",
        "\n",
        "def compile_train_model(model, \n",
        "                        x_train,\n",
        "                        y_train,\n",
        "                        x_val,\n",
        "                        y_val,\n",
        "                        optimizer='adam',\n",
        "                        epochs=50,\n",
        "                        batch_size=128,\n",
        "                        figsize=(20, 5)):\n",
        "\n",
        "    # Компиляция модели\n",
        "    model.compile(optimizer=optimizer, \n",
        "                  loss='categorical_crossentropy', \n",
        "                  metrics=['accuracy'])\n",
        "\n",
        "    # Вывод сводки\n",
        "    model.summary()\n",
        "\n",
        "    # Обучение модели с заданными параметрами\n",
        "    history = model.fit(x_train,\n",
        "                        y_train,\n",
        "                        epochs=epochs,\n",
        "                        batch_size=batch_size,\n",
        "                        validation_data=(x_val, y_val))\n",
        "\n",
        "    # Вывод графиков точности и ошибки\n",
        "    fig, (ax1, ax2) = plt.subplots(1, 2, figsize=figsize)\n",
        "    fig.suptitle('График процесса обучения модели')\n",
        "    ax1.plot(history.history['accuracy'], \n",
        "               label='Доля верных ответов на обучающем наборе')\n",
        "    ax1.plot(history.history['val_accuracy'], \n",
        "               label='Доля верных ответов на проверочном наборе')\n",
        "    ax1.xaxis.get_major_locator().set_params(integer=True)\n",
        "    ax1.set_xlabel('Эпоха обучения')\n",
        "    ax1.set_ylabel('Доля верных ответов')\n",
        "    ax1.legend()\n",
        "\n",
        "    ax2.plot(history.history['loss'], \n",
        "               label='Ошибка на обучающем наборе')\n",
        "    ax2.plot(history.history['val_loss'], \n",
        "               label='Ошибка на проверочном наборе')\n",
        "    ax2.xaxis.get_major_locator().set_params(integer=True)\n",
        "    ax2.set_xlabel('Эпоха обучения')\n",
        "    ax2.set_ylabel('Ошибка')\n",
        "    ax2.legend()\n",
        "    plt.show()\n",
        "\n",
        "\n",
        "# Функция вывода результатов оценки модели на заданных данных\n",
        "def eval_model(model, x, y_true,\n",
        "               class_labels=[],\n",
        "               cm_round=3,\n",
        "               title='',\n",
        "               figsize=(10, 10)):\n",
        "    # Вычисление предсказания сети\n",
        "    y_pred = model.predict(x)\n",
        "    # Построение матрицы ошибок\n",
        "    cm = confusion_matrix(np.argmax(y_true, axis=1),\n",
        "                          np.argmax(y_pred, axis=1),\n",
        "                          normalize='true')\n",
        "    # Округление значений матрицы ошибок\n",
        "    cm = np.around(cm, cm_round)\n",
        "\n",
        "    # Отрисовка матрицы ошибок\n",
        "    fig, ax = plt.subplots(figsize=figsize)\n",
        "    ax.set_title(f'Нейросеть {title}: матрица ошибок нормализованная', fontsize=18)\n",
        "    disp = ConfusionMatrixDisplay(confusion_matrix=cm, display_labels=class_labels)\n",
        "    disp.plot(ax=ax)\n",
        "    plt.gca().images[-1].colorbar.remove()  # Стирание ненужной цветовой шкалы\n",
        "    plt.xlabel('Предсказанные классы', fontsize=16)\n",
        "    plt.ylabel('Верные классы', fontsize=16)\n",
        "    fig.autofmt_xdate(rotation=45)          # Наклон меток горизонтальной оси при необходимости\n",
        "    plt.show()    \n",
        "\n",
        "    print('-'*100)\n",
        "    print(f'Нейросеть: {title}')\n",
        "\n",
        "    # Для каждого класса:\n",
        "    for cls in range(len(class_labels)):\n",
        "        # Определяется индекс класса с максимальным значением предсказания (уверенности)\n",
        "        cls_pred = np.argmax(cm[cls])\n",
        "        # Формируется сообщение о верности или неверности предсказания\n",
        "        msg = 'ВЕРНО :-)' if cls_pred == cls else 'НЕВЕРНО :-('\n",
        "        # Выводится текстовая информация о предсказанном классе и значении уверенности\n",
        "        print('Класс: {:<20} {:3.0f}% сеть отнесла к классу {:<20} - {}'.format(class_labels[cls],\n",
        "                                                                               100. * cm[cls, cls_pred],\n",
        "                                                                               class_labels[cls_pred],\n",
        "                                                                               msg))\n",
        "\n",
        "    # Средняя точность распознавания определяется как среднее диагональных элементов матрицы ошибок\n",
        "    print('\\nСредняя точность распознавания: {:3.0f}%'.format(100. * cm.diagonal().mean()))\n",
        "\n",
        "\n",
        "# Совместная функция обучения и оценки модели нейронной сети\n",
        "def compile_train_eval_model(model, \n",
        "                             x_train,\n",
        "                             y_train,\n",
        "                             x_test,\n",
        "                             y_test,\n",
        "                             class_labels=class_names,\n",
        "                             title='',\n",
        "                             optimizer='adam',\n",
        "                             epochs=50,\n",
        "                             batch_size=128,\n",
        "                             graph_size=(20, 5),\n",
        "                             cm_size=(10, 10)):\n",
        "\n",
        "    # Компиляция и обучение модели на заданных параметрах\n",
        "    # В качестве проверочных используются тестовые данные\n",
        "    compile_train_model(model, \n",
        "                        x_train, y_train,\n",
        "                        x_test, y_test,\n",
        "                        optimizer=optimizer,\n",
        "                        epochs=epochs,\n",
        "                        batch_size=batch_size,\n",
        "                        figsize=graph_size)\n",
        "\n",
        "    # Вывод результатов оценки работы модели на тестовых данных\n",
        "    eval_model(model, x_test, y_test, \n",
        "               class_labels=class_labels, \n",
        "               title=title,\n",
        "               figsize=cm_size)"
      ],
      "metadata": {
        "id": "zz3GXAzXGpBJ"
      },
      "execution_count": null,
      "outputs": []
    },
    {
      "cell_type": "code",
      "source": [
        "# создадим модель НС\n",
        "model = Sequential()\n",
        "model.add(Dense(200, input_dim=VOCAB_SIZE, activation=\"relu\"))\n",
        "model.add(Dropout(0.3))\n",
        "model.add(Dense(100, activation=\"relu\"))\n",
        "model.add(Dropout(0.2))\n",
        "model.add(BatchNormalization())\n",
        "model.add(Dense(num_classes, activation='softmax'))\n",
        "\n",
        "compile_train_eval_model(model,\n",
        "                         x_train_01, y_train,\n",
        "                         x_test_01, y_test,\n",
        "                         class_labels=class_names,\n",
        "                         title='Bag of Words')"
      ],
      "metadata": {
        "colab": {
          "base_uri": "https://localhost:8080/",
          "height": 1000
        },
        "id": "8WHWE2-JHT8A",
        "outputId": "d99ddc3f-5a72-4080-80e3-ce29f2c02def"
      },
      "execution_count": null,
      "outputs": [
        {
          "output_type": "stream",
          "name": "stdout",
          "text": [
            "Model: \"sequential_7\"\n",
            "_________________________________________________________________\n",
            " Layer (type)                Output Shape              Param #   \n",
            "=================================================================\n",
            " dense_16 (Dense)            (None, 200)               2000200   \n",
            "                                                                 \n",
            " dropout_9 (Dropout)         (None, 200)               0         \n",
            "                                                                 \n",
            " dense_17 (Dense)            (None, 100)               20100     \n",
            "                                                                 \n",
            " dropout_10 (Dropout)        (None, 100)               0         \n",
            "                                                                 \n",
            " batch_normalization_7 (Batc  (None, 100)              400       \n",
            " hNormalization)                                                 \n",
            "                                                                 \n",
            " dense_18 (Dense)            (None, 2)                 202       \n",
            "                                                                 \n",
            "=================================================================\n",
            "Total params: 2,020,902\n",
            "Trainable params: 2,020,702\n",
            "Non-trainable params: 200\n",
            "_________________________________________________________________\n",
            "Epoch 1/50\n",
            "13/13 [==============================] - 1s 53ms/step - loss: 0.2975 - accuracy: 0.8683 - val_loss: 0.5779 - val_accuracy: 0.6779\n",
            "Epoch 2/50\n",
            "13/13 [==============================] - 0s 38ms/step - loss: 0.0128 - accuracy: 1.0000 - val_loss: 0.5005 - val_accuracy: 0.7788\n",
            "Epoch 3/50\n",
            "13/13 [==============================] - 1s 39ms/step - loss: 0.0038 - accuracy: 1.0000 - val_loss: 0.4572 - val_accuracy: 0.8101\n",
            "Epoch 4/50\n",
            "13/13 [==============================] - 0s 38ms/step - loss: 0.0019 - accuracy: 1.0000 - val_loss: 0.4281 - val_accuracy: 0.8341\n",
            "Epoch 5/50\n",
            "13/13 [==============================] - 1s 40ms/step - loss: 0.0015 - accuracy: 1.0000 - val_loss: 0.4069 - val_accuracy: 0.8438\n",
            "Epoch 6/50\n",
            "13/13 [==============================] - 1s 41ms/step - loss: 0.0010 - accuracy: 1.0000 - val_loss: 0.3892 - val_accuracy: 0.8438\n",
            "Epoch 7/50\n",
            "13/13 [==============================] - 1s 41ms/step - loss: 9.0396e-04 - accuracy: 1.0000 - val_loss: 0.3722 - val_accuracy: 0.8534\n",
            "Epoch 8/50\n",
            "13/13 [==============================] - 1s 40ms/step - loss: 0.0010 - accuracy: 1.0000 - val_loss: 0.3572 - val_accuracy: 0.8582\n",
            "Epoch 9/50\n",
            "13/13 [==============================] - 1s 41ms/step - loss: 5.9417e-04 - accuracy: 1.0000 - val_loss: 0.3440 - val_accuracy: 0.8582\n",
            "Epoch 10/50\n",
            "13/13 [==============================] - 1s 39ms/step - loss: 6.0700e-04 - accuracy: 1.0000 - val_loss: 0.3326 - val_accuracy: 0.8558\n",
            "Epoch 11/50\n",
            "13/13 [==============================] - 1s 39ms/step - loss: 5.2306e-04 - accuracy: 1.0000 - val_loss: 0.3219 - val_accuracy: 0.8534\n",
            "Epoch 12/50\n",
            "13/13 [==============================] - 1s 39ms/step - loss: 4.9693e-04 - accuracy: 1.0000 - val_loss: 0.3124 - val_accuracy: 0.8582\n",
            "Epoch 13/50\n",
            "13/13 [==============================] - 1s 41ms/step - loss: 4.0546e-04 - accuracy: 1.0000 - val_loss: 0.3045 - val_accuracy: 0.8606\n",
            "Epoch 14/50\n",
            "13/13 [==============================] - 1s 40ms/step - loss: 3.9019e-04 - accuracy: 1.0000 - val_loss: 0.2973 - val_accuracy: 0.8606\n",
            "Epoch 15/50\n",
            "13/13 [==============================] - 1s 40ms/step - loss: 3.3527e-04 - accuracy: 1.0000 - val_loss: 0.2910 - val_accuracy: 0.8630\n",
            "Epoch 16/50\n",
            "13/13 [==============================] - 0s 38ms/step - loss: 2.5993e-04 - accuracy: 1.0000 - val_loss: 0.2852 - val_accuracy: 0.8606\n",
            "Epoch 17/50\n",
            "13/13 [==============================] - 1s 40ms/step - loss: 2.5724e-04 - accuracy: 1.0000 - val_loss: 0.2805 - val_accuracy: 0.8678\n",
            "Epoch 18/50\n",
            "13/13 [==============================] - 0s 39ms/step - loss: 2.6606e-04 - accuracy: 1.0000 - val_loss: 0.2768 - val_accuracy: 0.8678\n",
            "Epoch 19/50\n",
            "13/13 [==============================] - 1s 40ms/step - loss: 3.0388e-04 - accuracy: 1.0000 - val_loss: 0.2733 - val_accuracy: 0.8678\n",
            "Epoch 20/50\n",
            "13/13 [==============================] - 0s 38ms/step - loss: 2.9270e-04 - accuracy: 1.0000 - val_loss: 0.2709 - val_accuracy: 0.8678\n",
            "Epoch 21/50\n",
            "13/13 [==============================] - 1s 42ms/step - loss: 2.7084e-04 - accuracy: 1.0000 - val_loss: 0.2686 - val_accuracy: 0.8678\n",
            "Epoch 22/50\n",
            "13/13 [==============================] - 0s 38ms/step - loss: 2.0675e-04 - accuracy: 1.0000 - val_loss: 0.2668 - val_accuracy: 0.8678\n",
            "Epoch 23/50\n",
            "13/13 [==============================] - 1s 40ms/step - loss: 1.8279e-04 - accuracy: 1.0000 - val_loss: 0.2657 - val_accuracy: 0.8678\n",
            "Epoch 24/50\n",
            "13/13 [==============================] - 1s 39ms/step - loss: 1.4619e-04 - accuracy: 1.0000 - val_loss: 0.2647 - val_accuracy: 0.8702\n",
            "Epoch 25/50\n",
            "13/13 [==============================] - 1s 40ms/step - loss: 1.7952e-04 - accuracy: 1.0000 - val_loss: 0.2645 - val_accuracy: 0.8702\n",
            "Epoch 26/50\n",
            "13/13 [==============================] - 1s 41ms/step - loss: 1.9825e-04 - accuracy: 1.0000 - val_loss: 0.2635 - val_accuracy: 0.8702\n",
            "Epoch 27/50\n",
            "13/13 [==============================] - 1s 40ms/step - loss: 1.5383e-04 - accuracy: 1.0000 - val_loss: 0.2621 - val_accuracy: 0.8702\n",
            "Epoch 28/50\n",
            "13/13 [==============================] - 0s 38ms/step - loss: 2.0737e-04 - accuracy: 1.0000 - val_loss: 0.2607 - val_accuracy: 0.8702\n",
            "Epoch 29/50\n",
            "13/13 [==============================] - 1s 40ms/step - loss: 2.1045e-04 - accuracy: 1.0000 - val_loss: 0.2609 - val_accuracy: 0.8726\n",
            "Epoch 30/50\n",
            "13/13 [==============================] - 1s 39ms/step - loss: 1.7275e-04 - accuracy: 1.0000 - val_loss: 0.2618 - val_accuracy: 0.8726\n",
            "Epoch 31/50\n",
            "13/13 [==============================] - 1s 39ms/step - loss: 1.2430e-04 - accuracy: 1.0000 - val_loss: 0.2617 - val_accuracy: 0.8726\n",
            "Epoch 32/50\n",
            "13/13 [==============================] - 0s 37ms/step - loss: 1.9621e-04 - accuracy: 1.0000 - val_loss: 0.2612 - val_accuracy: 0.8726\n",
            "Epoch 33/50\n",
            "13/13 [==============================] - 1s 41ms/step - loss: 1.1890e-04 - accuracy: 1.0000 - val_loss: 0.2613 - val_accuracy: 0.8702\n",
            "Epoch 34/50\n",
            "13/13 [==============================] - 1s 40ms/step - loss: 1.1605e-04 - accuracy: 1.0000 - val_loss: 0.2614 - val_accuracy: 0.8702\n",
            "Epoch 35/50\n",
            "13/13 [==============================] - 1s 40ms/step - loss: 1.2374e-04 - accuracy: 1.0000 - val_loss: 0.2613 - val_accuracy: 0.8726\n",
            "Epoch 36/50\n",
            "13/13 [==============================] - 0s 38ms/step - loss: 1.0886e-04 - accuracy: 1.0000 - val_loss: 0.2613 - val_accuracy: 0.8726\n",
            "Epoch 37/50\n",
            "13/13 [==============================] - 1s 41ms/step - loss: 1.2698e-04 - accuracy: 1.0000 - val_loss: 0.2618 - val_accuracy: 0.8750\n",
            "Epoch 38/50\n",
            "13/13 [==============================] - 0s 39ms/step - loss: 9.1934e-05 - accuracy: 1.0000 - val_loss: 0.2633 - val_accuracy: 0.8750\n",
            "Epoch 39/50\n",
            "13/13 [==============================] - 1s 40ms/step - loss: 8.9562e-05 - accuracy: 1.0000 - val_loss: 0.2644 - val_accuracy: 0.8774\n",
            "Epoch 40/50\n",
            "13/13 [==============================] - 0s 38ms/step - loss: 1.1734e-04 - accuracy: 1.0000 - val_loss: 0.2655 - val_accuracy: 0.8774\n",
            "Epoch 41/50\n",
            "13/13 [==============================] - 1s 42ms/step - loss: 6.7687e-05 - accuracy: 1.0000 - val_loss: 0.2666 - val_accuracy: 0.8774\n",
            "Epoch 42/50\n",
            "13/13 [==============================] - 1s 39ms/step - loss: 9.7159e-05 - accuracy: 1.0000 - val_loss: 0.2675 - val_accuracy: 0.8774\n",
            "Epoch 43/50\n",
            "13/13 [==============================] - 1s 41ms/step - loss: 9.2109e-05 - accuracy: 1.0000 - val_loss: 0.2671 - val_accuracy: 0.8774\n",
            "Epoch 44/50\n",
            "13/13 [==============================] - 1s 39ms/step - loss: 7.9257e-05 - accuracy: 1.0000 - val_loss: 0.2668 - val_accuracy: 0.8774\n",
            "Epoch 45/50\n",
            "13/13 [==============================] - 1s 41ms/step - loss: 8.1573e-05 - accuracy: 1.0000 - val_loss: 0.2667 - val_accuracy: 0.8750\n",
            "Epoch 46/50\n",
            "13/13 [==============================] - 1s 40ms/step - loss: 1.1257e-04 - accuracy: 1.0000 - val_loss: 0.2661 - val_accuracy: 0.8750\n",
            "Epoch 47/50\n",
            "13/13 [==============================] - 1s 41ms/step - loss: 6.7383e-05 - accuracy: 1.0000 - val_loss: 0.2662 - val_accuracy: 0.8750\n",
            "Epoch 48/50\n",
            "13/13 [==============================] - 1s 40ms/step - loss: 7.6158e-05 - accuracy: 1.0000 - val_loss: 0.2671 - val_accuracy: 0.8726\n",
            "Epoch 49/50\n",
            "13/13 [==============================] - 1s 40ms/step - loss: 7.8168e-05 - accuracy: 1.0000 - val_loss: 0.2676 - val_accuracy: 0.8750\n",
            "Epoch 50/50\n",
            "13/13 [==============================] - 1s 42ms/step - loss: 6.3458e-05 - accuracy: 1.0000 - val_loss: 0.2683 - val_accuracy: 0.8750\n"
          ]
        },
        {
          "output_type": "display_data",
          "data": {
            "text/plain": [
              "<Figure size 1440x360 with 2 Axes>"
            ],
            "image/png": "[encoded data removed]"
          },
          "metadata": {
            "needs_background": "light"
          }
        },
        {
          "output_type": "display_data",
          "data": {
            "text/plain": [
              "<Figure size 720x720 with 1 Axes>"
            ],
            "image/png": "[encoded data removed]"
          },
          "metadata": {
            "needs_background": "light"
          }
        },
        {
          "output_type": "stream",
          "name": "stdout",
          "text": [
            "----------------------------------------------------------------------------------------------------\n",
            "Нейросеть: Bag of Words\n",
            "Класс: Негативный отзыв      83% сеть отнесла к классу Негативный отзыв     - ВЕРНО :-)\n",
            "Класс: Позитивный отзыв      92% сеть отнесла к классу Позитивный отзыв     - ВЕРНО :-)\n",
            "\n",
            "Средняя точность распознавания:  87%\n"
          ]
        }
      ]
    }
  ]
}